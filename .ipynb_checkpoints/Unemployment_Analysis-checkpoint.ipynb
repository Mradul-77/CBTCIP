{
 "cells": [
  {
   "cell_type": "code",
   "execution_count": 1,
   "id": "fa5a8201-ced5-4746-87ab-9f58e8fb3333",
   "metadata": {},
   "outputs": [],
   "source": [
    "import numpy as np\n",
    "import pandas as pd"
   ]
  },
  {
   "cell_type": "code",
   "execution_count": 12,
   "id": "908fc0fe-685e-4945-9759-a580a1dbe0be",
   "metadata": {},
   "outputs": [],
   "source": [
    "df = pd.read_excel(r'Unemployment_in_India.xlsx', engine='openpyxl')"
   ]
  },
  {
   "cell_type": "code",
   "execution_count": null,
   "id": "bc563c2f-d694-44c8-bbdf-5844f018973e",
   "metadata": {},
   "outputs": [],
   "source": []
  }
 ],
 "metadata": {
  "kernelspec": {
   "display_name": "venv",
   "language": "python",
   "name": "venv"
  },
  "language_info": {
   "codemirror_mode": {
    "name": "ipython",
    "version": 3
   },
   "file_extension": ".py",
   "mimetype": "text/x-python",
   "name": "python",
   "nbconvert_exporter": "python",
   "pygments_lexer": "ipython3",
   "version": "3.12.3"
  }
 },
 "nbformat": 4,
 "nbformat_minor": 5
}
